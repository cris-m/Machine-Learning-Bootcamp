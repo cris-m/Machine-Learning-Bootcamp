{
 "cells": [
  {
   "cell_type": "markdown",
   "metadata": {},
   "source": [
    "# Supervised Learning"
   ]
  },
  {
   "cell_type": "markdown",
   "metadata": {},
   "source": [
    "Supervised learning algorithms are trained using labeled examples such as an input where the desired output is known.\n",
    "Fore example, a segment of text could have a category label, such as:\n",
    "- Spam vs Legitimate Email\n",
    "- Positive vs Negative Movie Review\n",
    "\n",
    "1. The network receives a set of inputs along with the corresponding correct outputs, and the algorithm learns by comparing its output with correct outputs to find errors.\n",
    "2. It then modifies the model accordingly\n",
    "This algorithm is commonly used in applications where historical data predicts likely future events."
   ]
  },
  {
   "cell_type": "markdown",
   "metadata": {},
   "source": [
    "### Learning process for supervised algorithm"
   ]
  },
  {
   "cell_type": "markdown",
   "metadata": {},
   "source": [
    "#### 1. Data Acquisition\n",
    "- Get data. Depends of the domain, the data can come from customer, sensor devices, online database, ...\n",
    "\n",
    "#### 2. Data Cleaning\n",
    "- Cleaning and format your data. Library like pandas are used for data cleaning. Then data are split into training and testing data.\n",
    "\n",
    "#### 3. Model Training and Building\n",
    "- The training data is passed to our model.\n",
    "\n",
    "#### 4. Test Data\n",
    "- We pass our training data to the model, get the model prediction and compare with the result label.\n",
    "\n",
    "#### 5. Model Deployment\n",
    "- If the model fit the requirement, it is then deploye into the real world."
   ]
  },
  {
   "cell_type": "markdown",
   "metadata": {},
   "source": [
    "- What we just showed is a simplified approch to supervised learning, it contains an issue.\n",
    "- Is it fair to use our single split of the data to evaluate our models performance?"
   ]
  },
  {
   "cell_type": "markdown",
   "metadata": {},
   "source": [
    "- To fix this issue, data is often split into 3 sets\n",
    "    - Training Data\n",
    "        - Used to train model parameters\n",
    "    - Validation Data\n",
    "        - Used to determine what model hyperparameters to adjust\n",
    "    - Test Data\n",
    "        - Used to get some final performance metric.\n"
   ]
  },
  {
   "cell_type": "markdown",
   "metadata": {},
   "source": [
    "- This means after we see the results on the final test set we don't get to go back and adjust any model parameters.\n",
    "- This final measure is what we label the true performance of the model to be"
   ]
  },
  {
   "cell_type": "markdown",
   "metadata": {},
   "source": [
    "# Evaluating Performance For Classification"
   ]
  },
  {
   "cell_type": "markdown",
   "metadata": {},
   "source": [
    "The key classification metrics we  need to undestand are:\n",
    "1. Accuracy:\n",
    "    Accuracy in classification problems is the number of correct prediction made by the model divided by the total number of predictions. It is not a good choice with unbalanced classes. Imagin we had 99 images of dogs and 1 image of cat. If our model was simply a line that always prediction dog would get 99% accuracy.\n",
    "    \n",
    "2. Recall:\n",
    "    It is the ability of a model to find all the relevant cases within a dataset. Thre precise definition of recall is the number of true positives divided by the number of true positives plus number of flase negatives.\n",
    "    \n",
    "3. Precision:\n",
    "    The ability of a classification model to identify only the relevant data points. Precision is defined as the number of true positives deivided by the number of true positives plus the number of false positives.\n",
    "    \n",
    "4. F1-Score:\n",
    "    In cases where we want to find an optimal blend of precision and recall we can combine the two metrics using what is called the F1 score. It is the harmonic mean of precision and recall taking both metrics into account in the following equation:\n",
    "    \n",
    "    $$F_1 = 2 * \\frac{precision * recall} {precision + recall}$$\n",
    "    \n",
    "Typically in any classification task your model can only achieve two rsults:\n",
    "- Either your model was correct in its prediction.\n",
    "- Or your model was incorrect in its prediction."
   ]
  },
  {
   "cell_type": "markdown",
   "metadata": {},
   "source": [
    "# Evaluating Performance For Regression"
   ]
  },
  {
   "cell_type": "markdown",
   "metadata": {},
   "source": [
    "Regression is a task when a model attempts to predict conitinuous values(unlike categorical values, which is classification). Recall and Precission metrics aren't useful for regression problems, we need metrics designed for continuous value. For example attempting to predict the price of a house given its features is a regression task. Attempting to predict the country a house is given it features would be a classicition task."
   ]
  },
  {
   "cell_type": "markdown",
   "metadata": {},
   "source": [
    "### Regression Metrics Evalutation:\n",
    "1. Mean Absolute Error (MAE):\n",
    "    - This is a mean of absolute value of errors\n",
    "    - Easy way to undestand: $ \\frac{1}{n} \\sum_{i=1}^n | (y_i - \\hat{y}_i) | $\n",
    "\n",
    "2. Mean Squared Error (MSE):\n",
    "    - Thid is a mean of the squared errors.\n",
    "    - Larger errors are noted more than with MAE, making MSE more popular. $ \\frac{1}{n} \\sum_{i=1}^n (y_i - \\hat{y}_i)^2 $\n",
    "\n",
    "3. Root Mean Squared Error (RMSE):\n",
    "    - This is the root of the mean of the squared errors.\n",
    "    - Most popular ( has same units as y). $ \\sqrt{\\frac{1}{n} \\sum_{i=1}^n (y_i - \\hat{y}_i)^2} $"
   ]
  },
  {
   "cell_type": "code",
   "execution_count": null,
   "metadata": {},
   "outputs": [],
   "source": []
  }
 ],
 "metadata": {
  "kernelspec": {
   "display_name": "Python 3",
   "language": "python",
   "name": "python3"
  },
  "language_info": {
   "codemirror_mode": {
    "name": "ipython",
    "version": 3
   },
   "file_extension": ".py",
   "mimetype": "text/x-python",
   "name": "python",
   "nbconvert_exporter": "python",
   "pygments_lexer": "ipython3",
   "version": "3.8.3"
  }
 },
 "nbformat": 4,
 "nbformat_minor": 4
}
